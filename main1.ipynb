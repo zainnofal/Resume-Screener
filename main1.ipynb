{
 "cells": [
  {
   "cell_type": "markdown",
   "metadata": {},
   "source": [
    "# **Resume Screening App**"
   ]
  },
  {
   "cell_type": "markdown",
   "metadata": {},
   "source": [
    "        Zain Nofal 2021723\n",
    "        Hamza Asif 2021196"
   ]
  },
  {
   "cell_type": "code",
   "execution_count": 1,
   "metadata": {},
   "outputs": [],
   "source": [
    "import os\n",
    "import pdfplumber\n",
    "import re\n"
   ]
  },
  {
   "cell_type": "code",
   "execution_count": 3,
   "metadata": {},
   "outputs": [],
   "source": [
    "dataset_path = \"/Users/zainnofal/Desktop/Resume Screening/data/data\"\n"
   ]
  },
  {
   "cell_type": "markdown",
   "metadata": {},
   "source": [
    "### Loading and Preprocessing the Data"
   ]
  },
  {
   "cell_type": "code",
   "execution_count": 2,
   "metadata": {},
   "outputs": [],
   "source": [
    "import os\n",
    "import pdfplumber\n",
    "import re\n",
    "\n",
    "def extract_text_from_pdfs(folder_path):\n",
    "    resumes = {}\n",
    "    for folder in os.listdir(folder_path):\n",
    "        folder_dir = os.path.join(folder_path, folder)\n",
    "        \n",
    "        # Skip if it's a system file or non-directory\n",
    "        if not os.path.isdir(folder_dir):\n",
    "            continue\n",
    "        \n",
    "        resumes[folder] = []\n",
    "        for file in os.listdir(folder_dir):\n",
    "            if file.endswith('.pdf'):\n",
    "                file_path = os.path.join(folder_dir, file)\n",
    "                with pdfplumber.open(file_path) as pdf:\n",
    "                    text = \" \".join(page.extract_text() for page in pdf.pages)\n",
    "                    cleaned_text = re.sub(r'\\s+', ' ', text)  # Remove extra spaces\n",
    "                    resumes[folder].append(cleaned_text)\n",
    "    return resumes\n",
    "\n",
    "# Example usage:\n",
    "dataset_path = \"/Users/zainnofal/Desktop/Resume Screening/data/data\"\n",
    "resume_data = extract_text_from_pdfs(dataset_path)\n"
   ]
  },
  {
   "cell_type": "markdown",
   "metadata": {},
   "source": [
    "### Feature Extraction"
   ]
  },
  {
   "cell_type": "code",
   "execution_count": 18,
   "metadata": {},
   "outputs": [
    {
     "name": "stdout",
     "output_type": "stream",
     "text": [
      "{'education': ['Mount Holyoke College', 'Portugal Technical Skills Mastery of'], 'skills': ['communication', 'excel', 'Excel', 'management'], 'experience': ['Strong working knowledge of DataTrak ABC and ClubOs software Ability to work with several operating systems including Microsoft and Mac OSX Fluent in spoken Portuguese; proficient in written Portuguese Knowledge of spoken and written Spanish', 'Listened attentively to account feedback and worked with product development team to introduce competitive product offerings.', 'Company Name City , State Trade Channel Manager 10/2002 to 01/2006 Built and managed 30 new accounts and $15 million in sales.', 'Qualifications Self-motivated Team training and development Strategic and creative thinker Process improvement Outgoing and cheerful attitude Interpersonal, oral, and written communication skills Experience Company Name City , State Membership Sales Representative 01/2015 to Current Achieve monthly individual and team sales and attrition goals by enrolling prospective members in the club utilizing the Relationship Selling process.', 'Managed team of three merchandise managers and one merchandising analyst.', 'Responsible for recruiting and interviewing new team members for the department.', 'Company Name City , State Director of Sales 01/2006 to 10/2007 Managed sales and operations of the Department Store and Lifestyle business segments, resulting in over $20 million in annual sales.', 'Planned and led training sessions on customer service and business analysis to promote sales team professional development and sales goal reinforcement.', 'MEMBERSHIP SALES REPRESENTATIVE Professional Profile Motivated professional with over twenty years of experience in business management and customer service seeking Front Desk Manager position at The Claremont Club.', \"Company Name City , State Director of Performance Sports 03/2011 to 08/2011 Managed women's and men's performance apparel categories of Running, Fitness, and Soccer with a sales goal of $21 million.\", 'Company Name City , State Sales Director of New Business 10/2007 to 03/2008 Managed new and emerging business categories across all product classifications.', 'Traveled to corporate headquarters in Germany every 6 - 8 weeks to represent North America in strategic planning meetings.']}\n"
     ]
    }
   ],
   "source": [
    "import spacy\n",
    "import re\n",
    "\n",
    "# Load SpaCy model\n",
    "nlp = spacy.load(\"en_core_web_sm\")\n",
    "\n",
    "# Custom list of skills (you can extend this list as needed)\n",
    "skills_list = [\"accounting\", \"finance\", \"auditing\", \"management\", \"data analysis\", \"excel\", \"python\", \"teamwork\", \"communication\"]\n",
    "\n",
    "# List of common education terms\n",
    "education_keywords = [\"bachelor\", \"master\", \"phd\", \"degree\", \"university\", \"college\", \"diploma\", \"MBA\", \"MS\", \"BA\"]\n",
    "\n",
    "def extract_features(resume_text):\n",
    "    doc = nlp(resume_text)\n",
    "    features = {\n",
    "        \"education\": [],\n",
    "        \"skills\": [],\n",
    "        \"experience\": [],\n",
    "    }\n",
    "\n",
    "    # Extract education-related entities based on specific keywords\n",
    "    for ent in doc.ents:\n",
    "        if any(keyword.lower() in ent.text.lower() for keyword in education_keywords):\n",
    "            features[\"education\"].append(ent.text)\n",
    "\n",
    "    # Extract skills based on the predefined list\n",
    "    for token in doc:\n",
    "        if token.text.lower() in skills_list:\n",
    "            features[\"skills\"].append(token.text)\n",
    "\n",
    "    # Extract experience-related information using regex for common phrases\n",
    "    experience_keywords = [\"worked\", \"experience\", \"responsible for\", \"managed\", \"led\", \"performed\"]\n",
    "    for sent in doc.sents:\n",
    "        for keyword in experience_keywords:\n",
    "            if keyword in sent.text.lower():\n",
    "                features[\"experience\"].append(sent.text)\n",
    "\n",
    "    # Remove duplicates in skills and experience\n",
    "    features[\"skills\"] = list(set(features[\"skills\"]))\n",
    "    features[\"experience\"] = list(set(features[\"experience\"]))\n",
    "    \n",
    "    return features\n",
    "\n",
    "# Example usage:\n",
    "features = extract_features(resume_data[\"APPAREL\"][4])\n",
    "print(features)\n"
   ]
  },
  {
   "cell_type": "markdown",
   "metadata": {},
   "source": [
    "### Similarity Matching"
   ]
  },
  {
   "cell_type": "code",
   "execution_count": 28,
   "metadata": {},
   "outputs": [
    {
     "name": "stdout",
     "output_type": "stream",
     "text": [
      "Similarity: 0.7282781600952148\n"
     ]
    }
   ],
   "source": [
    "from sentence_transformers import SentenceTransformer, util\n",
    "\n",
    "model = SentenceTransformer('all-MiniLM-L6-v2')\n",
    "\n",
    "def compute_similarity(resume_text, job_description):\n",
    "    resume_embedding = model.encode(resume_text, convert_to_tensor=True)\n",
    "    job_embedding = model.encode(job_description, convert_to_tensor=True)\n",
    "    return util.pytorch_cos_sim(resume_embedding, job_embedding).item()\n",
    "\n",
    "# Example usage:\n",
    "job_description = \"Need a Chef Prepare various a la carte menu items and seasonal specialties and diverse background in food service industry\"\n",
    "similarity = compute_similarity(resume_data[\"CHEF\"][3], job_description)\n",
    "print(f\"Similarity: {similarity}\")\n"
   ]
  },
  {
   "cell_type": "markdown",
   "metadata": {},
   "source": [
    "### Sentiment Analysis"
   ]
  },
  {
   "cell_type": "code",
   "execution_count": 29,
   "metadata": {},
   "outputs": [],
   "source": [
    "from vaderSentiment.vaderSentiment import SentimentIntensityAnalyzer\n",
    "\n",
    "analyzer = SentimentIntensityAnalyzer()\n",
    "\n",
    "def analyze_sentiment(text):\n",
    "    sentiment = analyzer.polarity_scores(text)\n",
    "    return sentiment[\"compound\"]"
   ]
  },
  {
   "cell_type": "code",
   "execution_count": 30,
   "metadata": {},
   "outputs": [
    {
     "name": "stdout",
     "output_type": "stream",
     "text": [
      "Sentiment Score: 0.8658\n"
     ]
    }
   ],
   "source": [
    "# Example usage:\n",
    "summary_text = \"I am an amazing chef that creates amazing dishes.\"\n",
    "sentiment_score = analyze_sentiment(summary_text)\n",
    "print(f\"Sentiment Score: {sentiment_score}\")\n"
   ]
  },
  {
   "cell_type": "markdown",
   "metadata": {},
   "source": [
    "### Scoring and Ranking"
   ]
  },
  {
   "cell_type": "code",
   "execution_count": 31,
   "metadata": {},
   "outputs": [],
   "source": [
    "def calculate_score(similarity, features, sentiment_score):\n",
    "    skill_score = len(features[\"skills\"])\n",
    "    experience_score = len(features[\"experience\"])\n",
    "    return 0.4 * similarity + 0.3 * skill_score + 0.2 * experience_score + 0.1 * sentiment_score"
   ]
  },
  {
   "cell_type": "code",
   "execution_count": 32,
   "metadata": {},
   "outputs": [
    {
     "name": "stdout",
     "output_type": "stream",
     "text": [
      "Overall Score: 3.9778912640380866\n"
     ]
    }
   ],
   "source": [
    "# Example usage:\n",
    "score = calculate_score(similarity, features, sentiment_score)\n",
    "print(f\"Overall Score: {score}\")\n"
   ]
  },
  {
   "cell_type": "code",
   "execution_count": null,
   "metadata": {},
   "outputs": [],
   "source": []
  }
 ],
 "metadata": {
  "kernelspec": {
   "display_name": "Python 3",
   "language": "python",
   "name": "python3"
  },
  "language_info": {
   "codemirror_mode": {
    "name": "ipython",
    "version": 3
   },
   "file_extension": ".py",
   "mimetype": "text/x-python",
   "name": "python",
   "nbconvert_exporter": "python",
   "pygments_lexer": "ipython3",
   "version": "3.12.1"
  }
 },
 "nbformat": 4,
 "nbformat_minor": 2
}
